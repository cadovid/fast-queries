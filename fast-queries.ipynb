{
 "cells": [
  {
   "cell_type": "markdown",
   "metadata": {},
   "source": [
    "## Algorithm Complexity: Building Fast Queries on a CSV\n",
    "\n",
    "In this project, we assume the position in which we own an online laptop store and want to build a way to answer a few different business questions about our inventory. For this purpose, we will use data recopilated in a CSV dataset about [laptop prices from Kaggle](https://www.kaggle.com/ionaskel/laptop-prices).\n",
    "\n",
    "We will use this exercise to analyse the __time and space complexity__ of the different algorithms implemented, and the ways in which it is possible to improve these algorithms to make them more time effectivily.\n",
    "\n",
    "### Step 1: Exploring the dataset\n",
    "\n",
    "As first step, we provide a short description of the different rows inside the dataset:\n",
    "\n",
    "    - ID: A unique identifier for the laptop.\n",
    "    - Company: The name of the company that produces the laptop.\n",
    "    - Product: The name of the laptop.\n",
    "    - TypeName: The type of laptop.\n",
    "    - Inches: The size of the screen in inches.\n",
    "    - ScreenResolution: The resolution of the screen.\n",
    "    - CPU: The laptop CPU.\n",
    "    - RAM: The amount of RAM in the laptop.\n",
    "    - Memory: The size of the hard drive.\n",
    "    - GPU: The graphics card name.\n",
    "    - OpSys: The name of the operating system.\n",
    "    - Weight: The laptop weight.\n",
    "    - Price: The price of the laptop.\n"
   ]
  },
  {
   "cell_type": "code",
   "execution_count": 1,
   "metadata": {},
   "outputs": [
    {
     "name": "stdout",
     "output_type": "stream",
     "text": [
      "Header row:\n",
      " ['Id', 'Company', 'Product', 'TypeName', 'Inches', 'ScreenResolution', 'Cpu', 'Ram', 'Memory', 'Gpu', 'OpSys', 'Weight', 'Price']\n",
      "\n",
      "Next row:\n",
      " ['6571244', 'Apple', 'MacBook Pro', 'Ultrabook', '13.3', 'IPS Panel Retina Display 2560x1600', 'Intel Core i5 2.3GHz', '8GB', '128GB SSD', 'Intel Iris Plus Graphics 640', 'macOS', '1.37kg', '1339']\n",
      "\n",
      "Next row:\n",
      " ['7287764', 'Apple', 'Macbook Air', 'Ultrabook', '13.3', '1440x900', 'Intel Core i5 1.8GHz', '8GB', '128GB Flash Storage', 'Intel HD Graphics 6000', 'macOS', '1.34kg', '898']\n",
      "\n",
      "Next row:\n",
      " ['3362737', 'HP', '250 G6', 'Notebook', '15.6', 'Full HD 1920x1080', 'Intel Core i5 7200U 2.5GHz', '8GB', '256GB SSD', 'Intel HD Graphics 620', 'No OS', '1.86kg', '575']\n",
      "\n",
      "Next row:\n",
      " ['9722156', 'Apple', 'MacBook Pro', 'Ultrabook', '15.4', 'IPS Panel Retina Display 2880x1800', 'Intel Core i7 2.7GHz', '16GB', '512GB SSD', 'AMD Radeon Pro 455', 'macOS', '1.83kg', '2537']\n",
      "\n",
      "Next row:\n",
      " ['8550527', 'Apple', 'MacBook Pro', 'Ultrabook', '13.3', 'IPS Panel Retina Display 2560x1600', 'Intel Core i5 3.1GHz', '8GB', '256GB SSD', 'Intel Iris Plus Graphics 650', 'macOS', '1.37kg', '1803']\n"
     ]
    }
   ],
   "source": [
    "import csv\n",
    "\n",
    "with open('laptops.csv', encoding='UTF-8') as file:\n",
    "    rows = list(csv.reader(file))\n",
    "    header = rows[0]\n",
    "    rows = rows[1:]\n",
    "    \n",
    "print('Header row:\\n', header)\n",
    "for i in range(5):\n",
    "    print('\\nNext row:\\n', rows[i])"
   ]
  },
  {
   "cell_type": "markdown",
   "metadata": {},
   "source": [
    "The goal of this project is to create a class that represents our inventory. The methods in that class will implement the queries that we want to answer about our inventory. We will also preprocess that data to make those queries run faster.\n",
    "\n",
    "Some of the queries we will want to answer are:\n",
    "\n",
    "    - Given a laptop id, find the corresponding data.\n",
    "    - Given an amount of money, find whether there are two laptops whose total price is that given amount.\n",
    "    - Identify all laptops whose price falls within a given budget.\n",
    "\n",
    "### Step 2: Implementation of the basis of the new class"
   ]
  },
  {
   "cell_type": "code",
   "execution_count": 2,
   "metadata": {},
   "outputs": [],
   "source": [
    "class Inventory:\n",
    "    \n",
    "    def __init__(self, csv_filename):\n",
    "        with open(csv_filename, encoding='UTF-8') as file:\n",
    "            rows = list(csv.reader(file))\n",
    "            self.header = rows[0]\n",
    "            self.rows = rows[1:]\n",
    "            for row in self.rows:\n",
    "                row[-1] = int(row[-1])"
   ]
  },
  {
   "cell_type": "code",
   "execution_count": 3,
   "metadata": {},
   "outputs": [
    {
     "name": "stdout",
     "output_type": "stream",
     "text": [
      "['Id', 'Company', 'Product', 'TypeName', 'Inches', 'ScreenResolution', 'Cpu', 'Ram', 'Memory', 'Gpu', 'OpSys', 'Weight', 'Price']\n",
      "1303\n"
     ]
    }
   ],
   "source": [
    "# Testing the new class\n",
    "inventory = Inventory('laptops.csv')\n",
    "print(inventory.header)\n",
    "print(len(inventory.rows))"
   ]
  },
  {
   "cell_type": "markdown",
   "metadata": {},
   "source": [
    "### Step 3: Implementation of the queries\n",
    "\n",
    "The queries will be implemented as improvements to the `Inventory` class. For this reason, in the next cells the class will be improved with the addition of new methods and features.\n",
    "\n",
    "#### 3.1. Finding a laptop from the ID\n",
    "\n",
    "The first thing that we will implement is a way to look up a laptop from a given identifier. In this way, when a customer comes to our store with a purchase slip, we can quickly identify the laptop to which it corresponds."
   ]
  },
  {
   "cell_type": "code",
   "execution_count": 4,
   "metadata": {},
   "outputs": [],
   "source": [
    "class Inventory:\n",
    "    \n",
    "    def __init__(self, csv_filename):\n",
    "        with open(csv_filename, encoding='UTF-8') as file:\n",
    "            rows = list(csv.reader(file))\n",
    "            self.header = rows[0]\n",
    "            self.rows = rows[1:]\n",
    "            for row in self.rows:\n",
    "                row[-1] = int(row[-1])\n",
    "    \n",
    "    def get_laptop_from_id(self, laptop_id):\n",
    "        for row in self.rows:\n",
    "            if laptop_id == row[0]:\n",
    "                return row\n",
    "        return None"
   ]
  },
  {
   "cell_type": "code",
   "execution_count": 5,
   "metadata": {},
   "outputs": [
    {
     "name": "stdout",
     "output_type": "stream",
     "text": [
      "['3362737', 'HP', '250 G6', 'Notebook', '15.6', 'Full HD 1920x1080', 'Intel Core i5 7200U 2.5GHz', '8GB', '256GB SSD', 'Intel HD Graphics 620', 'No OS', '1.86kg', 575]\n",
      "None\n"
     ]
    }
   ],
   "source": [
    "# Testing the class\n",
    "inventory = Inventory('laptops.csv')\n",
    "assert inventory.get_laptop_from_id('3362737') is not None, \"Wrong test 1\"\n",
    "assert inventory.get_laptop_from_id('3362736') is None, \"Wrong test 2\"\n",
    "print(inventory.get_laptop_from_id('3362737'))\n",
    "print(inventory.get_laptop_from_id('3362736'))"
   ]
  },
  {
   "cell_type": "markdown",
   "metadata": {},
   "source": [
    "The algorithm inside the method `get_laptop_from_id()` requires us to look at every single row to find the one that we are looking for (or decide that such a row does not exist). This algorithm has __time complexity O(R)__ where R is the number of rows.\n",
    "\n",
    "We can solve this problem more efficiently by preprocessing the data. Using a set, we can check in constant time whether a given identifier exists. However, we don't just want to know if it exists, we also want to retrieve the remaining row information. Therefore, we will use a dictionary instead of a set. Dictionaries have the same fast lookup properties that sets have, but allow us to associate values to the keys."
   ]
  },
  {
   "cell_type": "code",
   "execution_count": 6,
   "metadata": {},
   "outputs": [],
   "source": [
    "class Inventory:\n",
    "    \n",
    "    def __init__(self, csv_filename):\n",
    "        with open(csv_filename, encoding='UTF-8') as file:\n",
    "            rows = list(csv.reader(file))\n",
    "            self.header = rows[0]\n",
    "            self.rows = rows[1:]\n",
    "            self.id_to_row = dict()\n",
    "            for row in self.rows:\n",
    "                row[-1] = int(row[-1])\n",
    "                self.id_to_row[row[0]] = row\n",
    "    \n",
    "    def get_laptop_from_id(self, laptop_id):\n",
    "        for row in self.rows:\n",
    "            if laptop_id == row[0]:\n",
    "                return row\n",
    "        return None\n",
    "    \n",
    "    def get_laptop_from_id_fast(self, laptop_id):\n",
    "        if laptop_id in self.id_to_row:\n",
    "            return self.id_to_row[laptop_id]\n",
    "        return None"
   ]
  },
  {
   "cell_type": "code",
   "execution_count": 7,
   "metadata": {},
   "outputs": [
    {
     "name": "stdout",
     "output_type": "stream",
     "text": [
      "['3362737', 'HP', '250 G6', 'Notebook', '15.6', 'Full HD 1920x1080', 'Intel Core i5 7200U 2.5GHz', '8GB', '256GB SSD', 'Intel HD Graphics 620', 'No OS', '1.86kg', 575]\n",
      "None\n"
     ]
    }
   ],
   "source": [
    "# Testing the class\n",
    "inventory = Inventory('laptops.csv')\n",
    "assert inventory.get_laptop_from_id_fast('3362737') is not None, \"Wrong test 1\"\n",
    "assert inventory.get_laptop_from_id_fast('3362736') is None, \"Wrong test 2\"\n",
    "print(inventory.get_laptop_from_id_fast('3362737'))\n",
    "print(inventory.get_laptop_from_id_fast('3362736'))"
   ]
  },
  {
   "cell_type": "markdown",
   "metadata": {},
   "source": [
    "This new implementation in the method `get_laptop_from_id_fast()` has __time complexity O(1)__. It does so by using more memory to store the `self.id_to_row` dictionary and using a bit more time creating an instance (because it needs to create the dictionary).\n",
    "\n",
    "Let's experiment to compare the performance of the two methods. The idea is to generate random IDs using the random module. Then, use both methods to lookup these same IDs. We will use the time module to measure the execution time of each lookup and, for each method, add all times together."
   ]
  },
  {
   "cell_type": "code",
   "execution_count": 8,
   "metadata": {},
   "outputs": [
    {
     "name": "stdout",
     "output_type": "stream",
     "text": [
      "Total querying time slow performance: 0.9104s\n",
      "Total querying time fast performance: 0.0049s\n"
     ]
    }
   ],
   "source": [
    "import random\n",
    "import time\n",
    "\n",
    "# Creating 10,000 random ids\n",
    "random.seed(42)\n",
    "ids = [str(random.randint(1000000, 9999999)) for _ in range(10000)]\n",
    "\n",
    "# Creating the instance\n",
    "inventory = Inventory('laptops.csv')\n",
    "\n",
    "# Performance for slow method with time complexity O(R)\n",
    "total_time_no_dict = 0\n",
    "for identifier in ids:\n",
    "    start = time.time()\n",
    "    inventory.get_laptop_from_id(identifier)\n",
    "    end = time.time()\n",
    "    total_time_no_dict += end - start\n",
    "    \n",
    "# Performance for fast method with time complexity O(1)\n",
    "total_time_dict = 0\n",
    "for identifier in ids:\n",
    "    start = time.time()\n",
    "    inventory.get_laptop_from_id_fast(identifier)\n",
    "    end = time.time()\n",
    "    total_time_dict += end - start\n",
    "    \n",
    "print('Total querying time slow performance: {0:.4f}s'.format(total_time_no_dict))\n",
    "print('Total querying time fast performance: {0:.4f}s'.format(total_time_dict))"
   ]
  },
  {
   "cell_type": "markdown",
   "metadata": {},
   "source": [
    "We can see a significant improve in performance. The new method is about 185 times faster for this input size.\n",
    "\n",
    "\n",
    "#### 3.2. Two laptop promotion\n",
    "\n",
    "Sometimes, the store offers a promotion where we give a gift card. A customer can use the gift to buy up to two laptops. To avoid having to keep track of what was already spent, the gift card has a single time usage. This means that, even if there is leftover money, it cannot be used anymore.\n",
    "\n",
    "Whenever we issue a gift card, we want to make sure that there is at least one way to spend it in full to avoid unhappy customers. In other words, before issuing a gift card for D dollars, we want to make sure that either there is a laptop that costs exactly D dollars or two laptops whose costs add up to precisely D dollars.\n",
    "\n",
    "For that, we will write a function that, given a dollar amount, checks wheher it is possible to spend precisely that amount by purchasing up to two laptops."
   ]
  },
  {
   "cell_type": "code",
   "execution_count": 9,
   "metadata": {},
   "outputs": [],
   "source": [
    "class Inventory:\n",
    "    \n",
    "    def __init__(self, csv_filename):\n",
    "        with open(csv_filename, encoding='UTF-8') as file:\n",
    "            rows = list(csv.reader(file))\n",
    "            self.header = rows[0]\n",
    "            self.rows = rows[1:]\n",
    "            self.id_to_row = dict()\n",
    "            for row in self.rows:\n",
    "                row[-1] = int(row[-1])\n",
    "                self.id_to_row[row[0]] = row\n",
    "    \n",
    "    def get_laptop_from_id(self, laptop_id):\n",
    "        for row in self.rows:\n",
    "            if laptop_id == row[0]:\n",
    "                return row\n",
    "        return None\n",
    "    \n",
    "    def get_laptop_from_id_fast(self, laptop_id):\n",
    "        if laptop_id in self.id_to_row:\n",
    "            return self.id_to_row[laptop_id]\n",
    "        return None\n",
    "    \n",
    "    def check_promotion_dollars(self, dollars):\n",
    "        for row in self.rows:\n",
    "            if dollars == row[-1]:\n",
    "                return True\n",
    "            for row2 in self.rows:\n",
    "                if dollars == row[-1] + row2[-1]:\n",
    "                    return True\n",
    "        return False"
   ]
  },
  {
   "cell_type": "code",
   "execution_count": 10,
   "metadata": {},
   "outputs": [
    {
     "name": "stdout",
     "output_type": "stream",
     "text": [
      "True\n",
      "False\n"
     ]
    }
   ],
   "source": [
    "# Testing the class\n",
    "inventory = Inventory('laptops.csv')\n",
    "assert inventory.check_promotion_dollars(1000) is True, \"Wrong test 1\"\n",
    "assert inventory.check_promotion_dollars(442) is False, \"Wrong test 2\"\n",
    "print(inventory.check_promotion_dollars(1000))\n",
    "print(inventory.check_promotion_dollars(442))"
   ]
  },
  {
   "cell_type": "markdown",
   "metadata": {},
   "source": [
    "The algorithm in the method `check_promotion_dollars()` has __time complexity O(R^2)__ where R is the number of rows. As before, we can preprocess data to make our code run faster.\n",
    "\n",
    "Since we only care about whether or not there is a solution, we can store all laptops prices in a set when we initialize the inventory. Then we can check in constant time whether there is a laptop with a given price.\n",
    "\n",
    "To check if there is a pair of laptops whose sum adds up to the given value, we can take into consideration that `sum = laptop_price_1 + laptop_price_2`, i.e., `laptop_price_2 = sum - laptop_price_1`. With that, we can check in constant time wheter there is a laptop with a price equals to the difference between the given value and the other laptop's price.  "
   ]
  },
  {
   "cell_type": "code",
   "execution_count": 11,
   "metadata": {},
   "outputs": [],
   "source": [
    "class Inventory:\n",
    "    \n",
    "    def __init__(self, csv_filename):\n",
    "        with open(csv_filename, encoding='UTF-8') as file:\n",
    "            rows = list(csv.reader(file))\n",
    "            self.header = rows[0]\n",
    "            self.rows = rows[1:]\n",
    "            self.id_to_row = dict()\n",
    "            self.prices = set()\n",
    "            for row in self.rows:\n",
    "                row[-1] = int(row[-1])\n",
    "                self.id_to_row[row[0]] = row\n",
    "                self.prices.add(row[-1])\n",
    "    \n",
    "    def get_laptop_from_id(self, laptop_id):\n",
    "        for row in self.rows:\n",
    "            if laptop_id == row[0]:\n",
    "                return row\n",
    "        return None\n",
    "    \n",
    "    def get_laptop_from_id_fast(self, laptop_id):\n",
    "        if laptop_id in self.id_to_row:\n",
    "            return self.id_to_row[laptop_id]\n",
    "        return None\n",
    "    \n",
    "    def check_promotion_dollars(self, dollars):\n",
    "        for row in self.rows:\n",
    "            if dollars == row[-1]:\n",
    "                return True\n",
    "            for row2 in self.rows:\n",
    "                if dollars == row[-1] + row2[-1]:\n",
    "                    return True\n",
    "        return False\n",
    "    \n",
    "    def check_promotion_dollars_fast(self, dollars):\n",
    "        if dollars in self.prices:\n",
    "            return True\n",
    "        for price in self.prices:\n",
    "            if dollars - price in self.prices:\n",
    "                return True\n",
    "        return False"
   ]
  },
  {
   "cell_type": "code",
   "execution_count": 12,
   "metadata": {},
   "outputs": [
    {
     "name": "stdout",
     "output_type": "stream",
     "text": [
      "True\n",
      "False\n"
     ]
    }
   ],
   "source": [
    "# Testing the class\n",
    "inventory = Inventory('laptops.csv')\n",
    "assert inventory.check_promotion_dollars_fast(1000) is True, \"Wrong test 1\"\n",
    "assert inventory.check_promotion_dollars_fast(442) is False, \"Wrong test 2\"\n",
    "print(inventory.check_promotion_dollars_fast(1000))\n",
    "print(inventory.check_promotion_dollars_fast(442))"
   ]
  },
  {
   "cell_type": "markdown",
   "metadata": {},
   "source": [
    "The algorithm for the new method `check_promotion_dollars_fast()` has a __time complexity O(R)__ where R is the number of rows. It does so by using more memory to store the `self.prices` set and using a bit more time creating an instance (because it needs to create the set).\n",
    "\n",
    "Let's now compare the performance of the last two functions that we wrote."
   ]
  },
  {
   "cell_type": "code",
   "execution_count": 13,
   "metadata": {},
   "outputs": [
    {
     "name": "stdout",
     "output_type": "stream",
     "text": [
      "Total querying time slow performance: 1.8304s\n",
      "Total querying time fast performance: 0.0007s\n"
     ]
    }
   ],
   "source": [
    "# Creating 100 random values to check\n",
    "random.seed(42)\n",
    "prices = [random.randint(100, 5000) for _ in range(100)]\n",
    "\n",
    "# Creating the instance\n",
    "inventory = Inventory('laptops.csv')\n",
    "\n",
    "# Performance for slow method with time complexity O(R^2)\n",
    "total_time_no_set = 0\n",
    "for price in prices:\n",
    "    start = time.time()\n",
    "    inventory.check_promotion_dollars(price)\n",
    "    end = time.time()\n",
    "    total_time_no_set += end - start\n",
    "    \n",
    "# Performance for fast method with time complexity O(R)\n",
    "total_time_set = 0\n",
    "for price in prices:\n",
    "    start = time.time()\n",
    "    inventory.check_promotion_dollars_fast(price)\n",
    "    end = time.time()\n",
    "    total_time_set += end - start\n",
    "    \n",
    "print('Total querying time slow performance: {0:.4f}s'.format(total_time_no_set))\n",
    "print('Total querying time fast performance: {0:.4f}s'.format(total_time_set))"
   ]
  },
  {
   "cell_type": "markdown",
   "metadata": {},
   "source": [
    "We can see a significant improve in performance. The new method is about 2336 times faster for this input size.\n",
    "\n",
    "\n",
    "#### 3.2. Finding laptops within a budget\n",
    "\n",
    "We want to write a method that efficiently answers the query: Given a budget of D dollars, find all laptops whose price it at most D.\n",
    "\n",
    "If we sort all laptops by price, we can use binary search to identify the first laptop in the sorted list with a price larger than D. We need to make sure that our binary search finds the first one on the list. Then, the result of the query will consist of all laptops whose index in the sorted list is smaller than the index of the first laptop whose price is higher than D dollars."
   ]
  },
  {
   "cell_type": "code",
   "execution_count": 14,
   "metadata": {},
   "outputs": [],
   "source": [
    "class Inventory:\n",
    "    \n",
    "    def __init__(self, csv_filename):\n",
    "        with open(csv_filename, encoding='UTF-8') as file:\n",
    "            rows = list(csv.reader(file))\n",
    "            self.header = rows[0]\n",
    "            self.rows = rows[1:]\n",
    "            self.id_to_row = dict()\n",
    "            self.prices = set()\n",
    "            for row in self.rows:\n",
    "                row[-1] = int(row[-1])\n",
    "                self.id_to_row[row[0]] = row\n",
    "                self.prices.add(row[-1])\n",
    "            self.rows_by_price = sorted(self.rows, key=lambda row: row[-1])\n",
    "            \n",
    "    def get_laptop_from_id(self, laptop_id):\n",
    "        for row in self.rows:\n",
    "            if laptop_id == row[0]:\n",
    "                return row\n",
    "        return None\n",
    "    \n",
    "    def get_laptop_from_id_fast(self, laptop_id):\n",
    "        if laptop_id in self.id_to_row:\n",
    "            return self.id_to_row[laptop_id]\n",
    "        return None\n",
    "    \n",
    "    def check_promotion_dollars(self, dollars):\n",
    "        for row in self.rows:\n",
    "            if dollars == row[-1]:\n",
    "                return True\n",
    "            for row2 in self.rows:\n",
    "                if dollars == row[-1] + row2[-1]:\n",
    "                    return True\n",
    "        return False\n",
    "    \n",
    "    def check_promotion_dollars_fast(self, dollars):\n",
    "        if dollars in self.prices:\n",
    "            return True\n",
    "        for price in self.prices:\n",
    "            if dollars - price in self.prices:\n",
    "                return True\n",
    "        return False\n",
    "    \n",
    "    def find_first_laptop_more_expensive(self, target_price):\n",
    "        range_start = 0                                   \n",
    "        range_end = len(self.rows_by_price) - 1                       \n",
    "        while range_start < range_end:\n",
    "            range_middle = (range_end + range_start) // 2  \n",
    "            price = self.rows_by_price[range_middle][-1]                       \n",
    "            if price < target_price:                           \n",
    "                range_start = range_middle + 1             \n",
    "            else:                                          \n",
    "                range_end = range_middle - 1 \n",
    "        price = self.rows_by_price[range_start][-1]\n",
    "        if price != target_price:                  \n",
    "            return -1                                      \n",
    "        return range_start+1"
   ]
  },
  {
   "cell_type": "code",
   "execution_count": 15,
   "metadata": {},
   "outputs": [
    {
     "name": "stdout",
     "output_type": "stream",
     "text": [
      "683\n",
      "-1\n"
     ]
    }
   ],
   "source": [
    "# Testing the class\n",
    "inventory = Inventory('laptops.csv')\n",
    "# assert inventory.find_first_laptop_more_expensive(1000) is True, \"Wrong test 1\"\n",
    "# assert inventory.find_first_laptop_more_expensive(10000) is False, \"Wrong test 2\"\n",
    "print(inventory.find_first_laptop_more_expensive(1000))\n",
    "print(inventory.find_first_laptop_more_expensive(10000))"
   ]
  },
  {
   "cell_type": "markdown",
   "metadata": {},
   "source": [
    "As a binary search algorithm modification, our method `find_first_laptop_more_expensive` has a __O(log(R)) time complexity__ where R is the number of rows.\n",
    "\n",
    "If we want to push this project further, we can think about the following queries:\n",
    "\n",
    "   - Imagine that we extend our budget query to take as input a range of prices, min_price and max_price, rather than a single price. Write a query that finds all laptops whose price is in the given range.\n",
    "   - Sometimes, a customer wants a laptop with some characteristics such as, for instance, 8GB or RAM and a 256GB hard drive. It would be interesting for those customers to provide a way to find the cheapest laptop that matches the desired characteristics.\n"
   ]
  }
 ],
 "metadata": {
  "kernelspec": {
   "display_name": "Python 3",
   "language": "python",
   "name": "python3"
  },
  "language_info": {
   "codemirror_mode": {
    "name": "ipython",
    "version": 3
   },
   "file_extension": ".py",
   "mimetype": "text/x-python",
   "name": "python",
   "nbconvert_exporter": "python",
   "pygments_lexer": "ipython3",
   "version": "3.8.2"
  }
 },
 "nbformat": 4,
 "nbformat_minor": 2
}
